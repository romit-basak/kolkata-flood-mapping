{
 "cells": [
  {
   "cell_type": "code",
   "execution_count": 8,
   "id": "29788b84-f9aa-4015-9c15-4e6aaed2acac",
   "metadata": {},
   "outputs": [
    {
     "name": "stdout",
     "output_type": "stream",
     "text": [
      "Earth Engine initialized\n"
     ]
    }
   ],
   "source": [
    "import ee\n",
    "import pandas as pd\n",
    "import numpy as np\n",
    "import matplotlib.pyplot as plt\n",
    "\n",
    "# Initialize Earth Engine\n",
    "ee.Initialize(project = \"kolkata-flood-mapping\")\n",
    "print(\"Earth Engine initialized\")"
   ]
  },
  {
   "cell_type": "code",
   "execution_count": 9,
   "id": "78dc3190-f2aa-4b7e-88e6-9cbd53ac7d52",
   "metadata": {},
   "outputs": [],
   "source": [
    "# Define Kolkata boundary\n",
    "kolkata = ee.Geometry.Rectangle([88.20, 22.45, 88.50, 22.65])\n",
    "\n",
    "# Load SRTM elevation\n",
    "srtm = ee.Image('USGS/SRTMGL1_003')\n",
    "elevation = srtm.clip(kolkata)\n",
    "\n",
    "# Clean the data (remove water artifacts)\n",
    "elevation_masked = elevation.updateMask(\n",
    "    elevation.gt(0).And(elevation.lt(30))\n",
    ")"
   ]
  },
  {
   "cell_type": "code",
   "execution_count": 10,
   "id": "95b44bfa-4400-40d4-9c11-09e791cf5114",
   "metadata": {},
   "outputs": [
    {
     "name": "stdout",
     "output_type": "stream",
     "text": [
      "Mean elevation: 6.75 meters\n",
      "Min elevation: 1 meters\n",
      "Max elevation: 29 meters\n"
     ]
    }
   ],
   "source": [
    "# Calculate stats\n",
    "stats = elevation_masked.reduceRegion(\n",
    "    reducer=ee.Reducer.mean().combine(\n",
    "        ee.Reducer.minMax(), \n",
    "        sharedInputs=True\n",
    "    ),\n",
    "    geometry=kolkata,\n",
    "    scale=30,\n",
    "    maxPixels=1e9\n",
    ")\n",
    "\n",
    "# Get the values\n",
    "stats_dict = stats.getInfo()\n",
    "print(f\"Mean elevation: {stats_dict['elevation_mean']:.2f} meters\")\n",
    "print(f\"Min elevation: {stats_dict['elevation_min']} meters\")\n",
    "print(f\"Max elevation: {stats_dict['elevation_max']} meters\")"
   ]
  },
  {
   "cell_type": "code",
   "execution_count": 16,
   "id": "d7f6672d-1845-4067-b3f0-9a2094780a8c",
   "metadata": {},
   "outputs": [
    {
     "data": {
      "image/png": "[encoded data removed]",
      "text/plain": [
       "<Figure size 1000x600 with 1 Axes>"
      ]
     },
     "metadata": {},
     "output_type": "display_data"
    }
   ],
   "source": [
    "# Sample elevation values for histogram\n",
    "sample = elevation_masked.sample(\n",
    "    region=kolkata,\n",
    "    scale=30,\n",
    "    numPixels=5000\n",
    ")\n",
    "\n",
    "# Convert to pandas DataFrame\n",
    "sample_df = pd.DataFrame(sample.getInfo()['features'])\n",
    "sample_df['elevation'] = sample_df['properties'].apply(lambda x: x['elevation'])\n",
    "\n",
    "# Plot histogram\n",
    "plt.figure(figsize=(10, 6))\n",
    "plt.hist(sample_df['elevation'], bins=30, edgecolor='black')\n",
    "plt.xlabel('Elevation (meters)')\n",
    "plt.ylabel('Frequency')\n",
    "plt.title('Kolkata Elevation Distribution')\n",
    "plt.axvline(5, color='red', linestyle='--', label='Flood-prone threshold')\n",
    "plt.legend()\n",
    "plt.show()"
   ]
  },
  {
   "cell_type": "code",
   "execution_count": 17,
   "id": "a5dbc149-9ae2-4f69-a14c-8a73ce5ae962",
   "metadata": {},
   "outputs": [
    {
     "name": "stdout",
     "output_type": "stream",
     "text": [
      "Pixel counts by elevation zone:\n",
      "{'elevation': 210882.9843137261, 'elevation_1': 226168.27058823593, 'elevation_1_1': 310988.35686273914}\n"
     ]
    }
   ],
   "source": [
    "# Create flood risk zones based on elevation\n",
    "low_elevation = elevation_masked.lt(5)  # Below 5 meters\n",
    "medium_elevation = elevation_masked.gte(5).And(elevation_masked.lt(8))\n",
    "high_elevation = elevation_masked.gte(8)\n",
    "\n",
    "# Count pixels in each category\n",
    "pixel_count = low_elevation.addBands([medium_elevation, high_elevation]).reduceRegion(\n",
    "    reducer=ee.Reducer.sum(),\n",
    "    geometry=kolkata,\n",
    "    scale=30,\n",
    "    maxPixels=1e9\n",
    ")\n",
    "\n",
    "print(\"Pixel counts by elevation zone:\")\n",
    "print(pixel_count.getInfo())"
   ]
  },
  {
   "cell_type": "code",
   "execution_count": 18,
   "id": "d95720dc-652b-4616-86df-e18174f18ae5",
   "metadata": {},
   "outputs": [
    {
     "name": "stdout",
     "output_type": "stream",
     "text": [
      "Elevation Distribution of Kolkata:\n",
      "Below 5m (potentially flood-prone): 28.2%\n",
      "5-8m (moderate elevation): 30.2%\n",
      "Above 8m (higher ground): 41.6%\n",
      "\n",
      "Area in sq km:\n",
      "Low elevation: 189.8 sq km\n",
      "Medium elevation: 203.6 sq km\n",
      "High elevation: 279.9 sq km\n"
     ]
    }
   ],
   "source": [
    "# Better way to get readable results\n",
    "low_count = pixel_count.get('elevation').getInfo()\n",
    "medium_count = pixel_count.get('elevation_1').getInfo()\n",
    "high_count = pixel_count.get('elevation_1_1').getInfo()\n",
    "\n",
    "total_pixels = low_count + medium_count + high_count\n",
    "\n",
    "# Convert to percentages\n",
    "low_percent = (low_count / total_pixels) * 100\n",
    "medium_percent = (medium_count / total_pixels) * 100\n",
    "high_percent = (high_count / total_pixels) * 100\n",
    "\n",
    "print(f\"Elevation Distribution of Kolkata:\")\n",
    "print(f\"Below 5m (potentially flood-prone): {low_percent:.1f}%\")\n",
    "print(f\"5-8m (moderate elevation): {medium_percent:.1f}%\")\n",
    "print(f\"Above 8m (higher ground): {high_percent:.1f}%\")\n",
    "\n",
    "# Convert to area (each pixel is 30m x 30m = 900 sq meters)\n",
    "pixel_area = 30 * 30 / 1000000  # in sq km\n",
    "print(f\"\\nArea in sq km:\")\n",
    "print(f\"Low elevation: {low_count * pixel_area:.1f} sq km\")\n",
    "print(f\"Medium elevation: {medium_count * pixel_area:.1f} sq km\")\n",
    "print(f\"High elevation: {high_count * pixel_area:.1f} sq km\")"
   ]
  },
  {
   "cell_type": "code",
   "execution_count": 19,
   "id": "0935d23f-83cf-473b-85ef-9042ca816914",
   "metadata": {},
   "outputs": [
    {
     "name": "stdout",
     "output_type": "stream",
     "text": [
      "Export started. Task ID: IGWOLLKWYSQNYKVBTOUAWLW2\n"
     ]
    }
   ],
   "source": [
    "# Optional: Export to Drive from Python\n",
    "task = ee.batch.Export.image.toDrive(\n",
    "    image=elevation_masked,\n",
    "    description='kolkata_elevation_python',\n",
    "    folder='Earth_Engine_Exports',\n",
    "    region=kolkata,\n",
    "    scale=30,\n",
    "    fileFormat='GeoTIFF'\n",
    ")\n",
    "\n",
    "# Start the export\n",
    "task.start()\n",
    "print(f\"Export started. Task ID: {task.id}\")"
   ]
  },
  {
   "cell_type": "code",
   "execution_count": null,
   "id": "8d0ddbb4-e7bf-44b9-97d8-6224009e8b55",
   "metadata": {},
   "outputs": [],
   "source": []
  }
 ],
 "metadata": {
  "kernelspec": {
   "display_name": "Python 3 (ipykernel)",
   "language": "python",
   "name": "python3"
  },
  "language_info": {
   "codemirror_mode": {
    "name": "ipython",
    "version": 3
   },
   "file_extension": ".py",
   "mimetype": "text/x-python",
   "name": "python",
   "nbconvert_exporter": "python",
   "pygments_lexer": "ipython3",
   "version": "3.13.7"
  }
 },
 "nbformat": 4,
 "nbformat_minor": 5
}
